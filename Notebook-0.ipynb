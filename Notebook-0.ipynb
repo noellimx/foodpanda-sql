{
    "metadata": {
        "kernelspec": {
            "name": "SQL",
            "display_name": "SQL",
            "language": "sql"
        },
        "language_info": {
            "name": "sql",
            "version": ""
        }
    },
    "nbformat_minor": 2,
    "nbformat": 4,
    "cells": [
        {
            "cell_type": "code",
            "source": [
                "a"
            ],
            "metadata": {
                "azdata_cell_guid": "7d114567-da0c-4461-964f-64f01c11615c",
                "language": "sql"
            },
            "outputs": [],
            "execution_count": null
        }
    ]
}